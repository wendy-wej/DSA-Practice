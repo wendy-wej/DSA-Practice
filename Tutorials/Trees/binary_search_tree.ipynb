{
 "cells": [
  {
   "cell_type": "code",
   "execution_count": null,
   "metadata": {},
   "outputs": [],
   "source": [
    "##Adding a node\n",
    "from dataclasses import dataclass\n",
    "\n",
    "\n",
    "class Node:\n",
    "    def __init__(self, data) :\n",
    "        self.left = None\n",
    "        self.right = None\n",
    "        self.data = data\n",
    "\n",
    "    def insert(self, data):\n",
    "        if self.data is None:\n",
    "            self.data = data\n",
    "        else:\n",
    "            if data < self.data:\n",
    "                if self.left is None:\n",
    "                    self.left =Node(data)\n",
    "                else:\n",
    "                    self.left.insert(data)\n",
    "            elif data > self.data:\n",
    "                if self.right is None:\n",
    "                    self.right = Node(data)\n",
    "                else:\n",
    "                    self.right.insert(data)\n",
    "\n",
    "if __name__ == '__main__'  :\n",
    "    root = Node[23]\n",
    "    root.insert(14)\n",
    "    root.insert(12)    \n"
   ]
  },
  {
   "cell_type": "code",
   "execution_count": null,
   "metadata": {},
   "outputs": [],
   "source": []
  }
 ],
 "metadata": {
  "kernelspec": {
   "display_name": "Python 3.9.13 64-bit (microsoft store)",
   "language": "python",
   "name": "python3"
  },
  "language_info": {
   "name": "python",
   "version": "3.9.13"
  },
  "orig_nbformat": 4,
  "vscode": {
   "interpreter": {
    "hash": "5c70c31affc930b912805ca889bba9f882e2351dd66c7034ece37bfea42248ab"
   }
  }
 },
 "nbformat": 4,
 "nbformat_minor": 2
}
