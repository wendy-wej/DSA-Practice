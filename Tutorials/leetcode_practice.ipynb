{
 "cells": [
  {
   "cell_type": "code",
   "execution_count": 66,
   "metadata": {},
   "outputs": [
    {
     "name": "stdout",
     "output_type": "stream",
     "text": [
      "\n",
      "[]\n",
      "False\n"
     ]
    }
   ],
   "source": [
    "## No125.Valid Palindrom\n",
    "import re\n",
    "def isPalindrome(s):\n",
    "\n",
    "    alnum_str = ''.join(filter(str.isalnum, s))\n",
    "    my_str = alnum_str.lower()\n",
    "    print(my_str)\n",
    "\n",
    "    my_array = list(my_str)\n",
    "    print(my_array)\n",
    "    if my_array==[]:\n",
    "        return False\n",
    "\n",
    "    l = 0\n",
    "    r = len(my_str)-1\n",
    "\n",
    "\n",
    "    while l <= r:\n",
    "        if my_array[l] == my_array[r]:\n",
    "            palind = True\n",
    "            l +=1\n",
    "            r -=1\n",
    "        else:\n",
    "            palind = False\n",
    "            break\n",
    "    return palind\n",
    "\n",
    "s = \".\"\n",
    "#s =\"race a car\"\n",
    "#s = \"A man,{ a plan,[] a canal\\(): Panama\"\n",
    "print(isPalindrome(s))"
   ]
  },
  {
   "cell_type": "code",
   "execution_count": null,
   "metadata": {},
   "outputs": [
    {
     "ename": "",
     "evalue": "",
     "output_type": "error",
     "traceback": [
      "\u001b[1;31mRunning cells with 'base' requires ipykernel package.\n",
      "\u001b[1;31mRun the following command to install 'ipykernel' into the Python environment. \n",
      "\u001b[1;31mCommand: 'conda install -n base ipykernel --update-deps --force-reinstall'"
     ]
    }
   ],
   "source": [
    "word = \"nbgvfc\"\n",
    "wig = list(word)\n",
    "print(wig)\n",
    "if wig ==[]:\n",
    "    print(\"yeah\")"
   ]
  }
 ],
 "metadata": {
  "kernelspec": {
   "display_name": "base",
   "language": "python",
   "name": "python3"
  },
  "language_info": {
   "codemirror_mode": {
    "name": "ipython",
    "version": 3
   },
   "file_extension": ".py",
   "mimetype": "text/x-python",
   "name": "python",
   "nbconvert_exporter": "python",
   "pygments_lexer": "ipython3",
   "version": "3.8.5 (default, Sep  3 2020, 21:29:08) [MSC v.1916 64 bit (AMD64)]"
  },
  "orig_nbformat": 4,
  "vscode": {
   "interpreter": {
    "hash": "f2407f60e953aec4fe3de76e4a8b6e23cb357e4faa70cfc9f06965f8c2bae4f7"
   }
  }
 },
 "nbformat": 4,
 "nbformat_minor": 2
}
