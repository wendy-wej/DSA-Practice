{
 "cells": [
  {
   "cell_type": "markdown",
   "metadata": {},
   "source": [
    "#### DFS without Recursion"
   ]
  },
  {
   "cell_type": "code",
   "execution_count": null,
   "metadata": {},
   "outputs": [],
   "source": [
    "def depthFirstSearch (graph, start):\n",
    "    stack =[start]\n",
    "\n",
    "    while stack:\n",
    "        current = stack.pop()\n",
    "        print(current)\n",
    "\n",
    "        \n",
    "        for nei in graph[current]:\n",
    "            stack.append(nei)\n",
    "graph = {\n",
    "    'A': ['B', 'C'],\t\n",
    "    'B': ['D'],\t\n",
    "    'C': ['E', ],\n",
    "    'D': ['F'],\n",
    "    'E': [],\n",
    "    'F': []\n",
    "}\n",
    "\n",
    "print(depthFirstSearch(graph, 'A'))"
   ]
  },
  {
   "cell_type": "markdown",
   "metadata": {},
   "source": [
    "#### DFS with Recursion"
   ]
  },
  {
   "cell_type": "code",
   "execution_count": null,
   "metadata": {},
   "outputs": [],
   "source": [
    "#Using Recursion\n",
    "def depthFirstSearch (graph, start):\n",
    "    print(start)\n",
    "    for nei in graph[start]:\n",
    "        depthFirstSearch(graph, nei)\n",
    "\n",
    "graph = {\n",
    "    'A': ['C', 'B'],\t\n",
    "    'B': ['D'],\t\n",
    "    'C': ['E', ],\n",
    "    'D': ['F'],\n",
    "    'E': [],\n",
    "    'F': []\n",
    "}\n",
    "\n",
    "print(depthFirstSearch(graph, 'A')) "
   ]
  },
  {
   "cell_type": "markdown",
   "metadata": {},
   "source": [
    "#### BFS without Recursion"
   ]
  },
  {
   "cell_type": "code",
   "execution_count": null,
   "metadata": {},
   "outputs": [],
   "source": [
    "#Breadth First Search\n",
    "def breadthFirstSearch (graph, start):\n",
    "    queue = [start]\n",
    "\n",
    "    while queue:\n",
    "        current = queue.pop(0)\n",
    "        print(current)\n",
    "\n",
    "        for nei in graph[current]:\n",
    "            queue.append(nei)\n",
    "graph = {\n",
    "    'A': ['B', 'C'],\t\n",
    "    'B': ['D'],\t\n",
    "    'C': ['E', ],\n",
    "    'D': ['F'],\n",
    "    'E': [],\n",
    "    'F': []\n",
    "}\n",
    "\n",
    "print(breadthFirstSearch(graph, 'A'))"
   ]
  },
  {
   "cell_type": "markdown",
   "metadata": {},
   "source": [
    "### Using DFS to find path without recursion"
   ]
  },
  {
   "cell_type": "code",
   "execution_count": null,
   "metadata": {},
   "outputs": [],
   "source": [
    "## Using DFS without recursion\n",
    "def findPath(graph, src, dist):\n",
    "    stack = [src]\n",
    "    visited = []\n",
    "    while stack:\n",
    "        current = stack.pop()\n",
    "        visited.append(current)\n",
    "        print(visited)\n",
    "        if current == dist:\n",
    "            return True\n",
    "        else:\n",
    "            for nei in graph[current]:\n",
    "                stack.append(nei)\n",
    "                \n",
    "    return False\n",
    "graph = {\n",
    "    'A': ['B', 'C'],\t\n",
    "    'B': ['D'],\t\n",
    "    'C': ['E', ],\n",
    "    'D': ['F'],\n",
    "    'E': [],\n",
    "    'F': []\n",
    "}\n",
    "\n",
    "print(findPath(graph, 'A', 'F'))"
   ]
  },
  {
   "cell_type": "code",
   "execution_count": null,
   "metadata": {},
   "outputs": [],
   "source": []
  },
  {
   "cell_type": "markdown",
   "metadata": {},
   "source": [
    "#### Optimizing to avoid visited nodes"
   ]
  },
  {
   "cell_type": "code",
   "execution_count": 45,
   "metadata": {},
   "outputs": [
    {
     "name": "stdout",
     "output_type": "stream",
     "text": [
      "['J']\n",
      "['J', 'I']\n",
      "['J', 'I']\n",
      "['J', 'I', 'K']\n",
      "['J', 'I', 'K']\n",
      "['J', 'I', 'K', 'M']\n",
      "['J', 'I', 'K', 'M']\n",
      "['J', 'I', 'K', 'M', 'L']\n",
      "['J', 'I', 'K', 'M', 'L']\n",
      "['J', 'I', 'K', 'M', 'L']\n",
      "False\n"
     ]
    }
   ],
   "source": [
    "def hasPathDFS(graph, start, end, visited):\n",
    "    if start == end:\n",
    "        return True\n",
    "    if start in visited:\n",
    "        return False\n",
    "    \n",
    "    visited.append(start)\n",
    "    for nei in graph[start]:\n",
    "        print(visited)\n",
    "        if hasPathDFS(graph, nei, end, visited) == True:\n",
    "            return True\n",
    "\n",
    "    return False\n",
    "    \n",
    "    # while stack:\n",
    "    #     current = stack.pop()\n",
    "    #     visited.append(current)\n",
    "    #     print(visited)\n",
    "    #     if current == end:\n",
    "    #         return True\n",
    "    #     elif current in visited:\n",
    "    #         continue\n",
    "    #     else:\n",
    "    #         for nei in graph[current]:\n",
    "    #             stack.append(nei)\n",
    "                \n",
    "    # return False\n",
    "                \n",
    "graph = {\n",
    "    'I': ['J', 'K'],\t\n",
    "    'J': ['I', 'K'],\t\n",
    "    'K': ['I', 'M', 'L', 'J' ],\n",
    "    'M': ['K'],\n",
    "    'L': ['K',],\n",
    "    'O': ['N'],\n",
    "    'N':['O'] \n",
    "}\n",
    "\n",
    "print(hasPathDFS(graph, 'J', 'O', []))"
   ]
  },
  {
   "cell_type": "markdown",
   "metadata": {},
   "source": [
    "### Using DFS to find path with recursion"
   ]
  },
  {
   "cell_type": "code",
   "execution_count": 41,
   "metadata": {},
   "outputs": [
    {
     "name": "stdout",
     "output_type": "stream",
     "text": [
      "['A', 'B']\n",
      "['B', 'D']\n",
      "['D', 'F']\n",
      "True\n"
     ]
    }
   ],
   "source": [
    "def findPath(graph, start, end):\n",
    "    visited = [start]\n",
    "    if start == end:\n",
    "        return True\n",
    "    for nei in graph[start]:\n",
    "        visited.append(nei)\n",
    "        print(visited)\n",
    "        if findPath(graph, nei, end) == True:\n",
    "            return True\n",
    "        else:\n",
    "            return False\n",
    "graph = {\n",
    "    'A': ['B', 'C'],\t\n",
    "    'B': ['D'],\t\n",
    "    'C': ['E', ],\n",
    "    'D': ['F'],\n",
    "    'E': [],\n",
    "    'F': []\n",
    "}\n",
    "\n",
    "print(findPath(graph, 'A', 'F'))"
   ]
  },
  {
   "cell_type": "markdown",
   "metadata": {},
   "source": [
    "### Using BFS to find path without recursion"
   ]
  },
  {
   "cell_type": "code",
   "execution_count": null,
   "metadata": {},
   "outputs": [],
   "source": [
    "def findPath(graph, start, end):\n",
    "    queue = [start]\n",
    "    visited = []\n",
    "    \n",
    "    while queue:\n",
    "        current = queue.pop(0)\n",
    "        visited.append(current)\n",
    "        print(visited)\n",
    "        \n",
    "        if current == end:\n",
    "            return True\n",
    "        else:\n",
    "            for nei in graph[current]:\n",
    "                queue.append(nei)\n",
    "                \n",
    "    return False\n",
    "\n",
    "print(findPath(graph, 'B', 'E'))"
   ]
  },
  {
   "cell_type": "markdown",
   "metadata": {},
   "source": [
    "### Building an undirected graph"
   ]
  },
  {
   "cell_type": "code",
   "execution_count": 7,
   "metadata": {},
   "outputs": [
    {
     "name": "stdout",
     "output_type": "stream",
     "text": [
      " {'i': ['j', 'k'], 'j': ['i'], 'k': ['i', 'm', 'l'], 'm': ['k'], 'l': ['k'], 'o': ['n'], 'n': ['o']}\n"
     ]
    }
   ],
   "source": [
    "def undirectedGraph(edges, nodeA, nodeB) :\n",
    "    graph = buildGraph(edges)\n",
    "    print(graph)\n",
    "    \n",
    "def buildGraph(edges):\n",
    "    graph= {}\n",
    "    \n",
    "    for i in edges:\n",
    "        a,b = i\n",
    "        if a not in graph:\n",
    "            graph[a] =[]\n",
    "        if b not in graph:\n",
    "            graph[b] =[]\n",
    "        graph[a].append(b)\n",
    "        graph[b].append(a)\n",
    "        \n",
    "    return graph\n",
    "\n",
    "edges = [\n",
    "    ['i', 'j'],\n",
    "    ['k', 'i'],\n",
    "    ['m', 'k'],\n",
    "    ['k', 'l'],\n",
    "    ['o', 'n']\n",
    "]\n",
    "undirectedGraph(edges, 'j', 'm')"
   ]
  },
  {
   "cell_type": "code",
   "execution_count": null,
   "metadata": {},
   "outputs": [],
   "source": []
  }
 ],
 "metadata": {
  "kernelspec": {
   "display_name": "Python 3",
   "language": "python",
   "name": "python3"
  },
  "language_info": {
   "codemirror_mode": {
    "name": "ipython",
    "version": 3
   },
   "file_extension": ".py",
   "mimetype": "text/x-python",
   "name": "python",
   "nbconvert_exporter": "python",
   "pygments_lexer": "ipython3",
   "version": "3.11.5"
  },
  "orig_nbformat": 4
 },
 "nbformat": 4,
 "nbformat_minor": 2
}
