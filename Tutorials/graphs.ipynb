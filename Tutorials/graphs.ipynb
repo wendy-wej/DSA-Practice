{
 "cells": [
  {
   "cell_type": "code",
   "execution_count": 1,
   "metadata": {},
   "outputs": [
    {
     "name": "stdout",
     "output_type": "stream",
     "text": [
      "A\n",
      "C\n",
      "E\n",
      "B\n",
      "D\n",
      "F\n",
      "None\n"
     ]
    }
   ],
   "source": [
    "def depthFirstSearch (graph, start):\n",
    "    stack =[start]\n",
    "\n",
    "    while stack:\n",
    "        current = stack.pop()\n",
    "        print(current)\n",
    "\n",
    "        \n",
    "        for nei in graph[current]:\n",
    "            stack.append(nei)\n",
    "graph = {\n",
    "    'A': ['B', 'C'],\t\n",
    "    'B': ['D'],\t\n",
    "    'C': ['E', ],\n",
    "    'D': ['F'],\n",
    "    'E': [],\n",
    "    'F': []\n",
    "}\n",
    "\n",
    "print(depthFirstSearch(graph, 'A'))"
   ]
  },
  {
   "cell_type": "code",
   "execution_count": 3,
   "metadata": {},
   "outputs": [
    {
     "name": "stdout",
     "output_type": "stream",
     "text": [
      "A\n",
      "C\n",
      "E\n",
      "B\n",
      "D\n",
      "F\n",
      "None\n"
     ]
    }
   ],
   "source": [
    "#Using Recursion\n",
    "def depthFirstSearch (graph, start):\n",
    "    print(start)\n",
    "    for nei in graph[start]:\n",
    "        depthFirstSearch(graph, nei)\n",
    "\n",
    "graph = {\n",
    "    'A': ['C', 'B'],\t\n",
    "    'B': ['D'],\t\n",
    "    'C': ['E', ],\n",
    "    'D': ['F'],\n",
    "    'E': [],\n",
    "    'F': []\n",
    "}\n",
    "\n",
    "print(depthFirstSearch(graph, 'A'))      "
   ]
  },
  {
   "cell_type": "code",
   "execution_count": 5,
   "metadata": {},
   "outputs": [
    {
     "name": "stdout",
     "output_type": "stream",
     "text": [
      "A\n",
      "B\n",
      "C\n",
      "D\n",
      "E\n",
      "F\n",
      "None\n"
     ]
    }
   ],
   "source": [
    "#Breadth First Search\n",
    "\n",
    "def breadthFirstSearch (graph, start):\n",
    "    queue = [start]\n",
    "\n",
    "    while queue:\n",
    "        current = queue.pop(0)\n",
    "        print(current)\n",
    "\n",
    "        for nei in graph[current]:\n",
    "            queue.append(nei)\n",
    "graph = {\n",
    "    'A': ['B', 'C'],\t\n",
    "    'B': ['D'],\t\n",
    "    'C': ['E', ],\n",
    "    'D': ['F'],\n",
    "    'E': [],\n",
    "    'F': []\n",
    "}\n",
    "\n",
    "print(breadthFirstSearch(graph, 'A'))"
   ]
  }
 ],
 "metadata": {
  "kernelspec": {
   "display_name": "Python 3",
   "language": "python",
   "name": "python3"
  },
  "language_info": {
   "codemirror_mode": {
    "name": "ipython",
    "version": 3
   },
   "file_extension": ".py",
   "mimetype": "text/x-python",
   "name": "python",
   "nbconvert_exporter": "python",
   "pygments_lexer": "ipython3",
   "version": "3.11.5"
  },
  "orig_nbformat": 4
 },
 "nbformat": 4,
 "nbformat_minor": 2
}
