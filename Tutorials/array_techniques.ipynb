{
 "cells": [
  {
   "cell_type": "code",
   "execution_count": null,
   "metadata": {},
   "outputs": [],
   "source": [
    "def fixed_sliding_window(arr, k):\n",
    "    #This is to sum up the first sub-array\n",
    "    curr_subarray = sum(arr[:k])\n",
    "    result = [curr_subarray]\n",
    "\n",
    "    #This is to get subsequent sub-arrays\n",
    "    ##We do this by adding the next value and removing the previous value\n",
    "\n",
    "    for i in range(1, len(arr)-k+1):\n",
    "        curr_subarray -= arr[i-1]\n",
    "        curr_subarray += arr[i+k-1]\n",
    "\n",
    "        result.append(curr_subarray)\n",
    "    return result\n",
    "\n",
    "print(fixed_sliding_window([1,2,3,4,5,6,7,8,9], 3))\n",
    "\n"
   ]
  },
  {
   "cell_type": "code",
   "execution_count": null,
   "metadata": {},
   "outputs": [],
   "source": [
    "def dynamic_sliding_window(arr: List[int], x: int) ->int:\n",
    "    #Track our min value\n",
    "    min_length = float('inf')\n",
    "    \n",
    "    #The current range and sum of our sliding window\n",
    "    start = 0\n",
    "    end = 0\n",
    "    current_sum = 0\n",
    "    \n",
    "    #Extend the sliding window until our critera is met\n",
    "    while end < len(arr):\n",
    "        current_sum = current_sum + arr[end]\n",
    "        end = end + 1\n",
    "        \n",
    "        #Then contract the sliding window until our critera is met\n",
    "        while start < end and current_sum >= x:\n",
    "            current_sum = current_sum  - arr[start]\n",
    "            start = start + 1\n",
    "            \n",
    "            \n",
    "            #Update the min_length if this is shorter than the current one.\n",
    "            min_length = min(min_length, end-start+1)\n",
    "    return min_length "
   ]
  },
  {
   "cell_type": "code",
   "execution_count": 1,
   "metadata": {},
   "outputs": [
    {
     "name": "stdout",
     "output_type": "stream",
     "text": [
      "[0, 0, 0, 0, 1, 1, 1, 0, 0, 1]\n"
     ]
    }
   ],
   "source": [
    "def two_pointer(list_a):\n",
    "    i = 0\n",
    "    j = len(list_a)-1\n",
    "    while i < j:\n",
    "        if list_a[i] == 1 and list_a[j] == 0:\n",
    "            list_a[i], list_a[j] = list_a[j], list_a[i]\n",
    "        i +=1\n",
    "        j -= 1\n",
    "    return list_a\n",
    "\n",
    "print(two_pointer([1,0,0,1,1,1,0,0,0,0]))"
   ]
  }
 ],
 "metadata": {
  "kernelspec": {
   "display_name": "Python 3.8.5 ('base')",
   "language": "python",
   "name": "python3"
  },
  "language_info": {
   "codemirror_mode": {
    "name": "ipython",
    "version": 3
   },
   "file_extension": ".py",
   "mimetype": "text/x-python",
   "name": "python",
   "nbconvert_exporter": "python",
   "pygments_lexer": "ipython3",
   "version": "3.8.5"
  },
  "orig_nbformat": 4,
  "vscode": {
   "interpreter": {
    "hash": "f2407f60e953aec4fe3de76e4a8b6e23cb357e4faa70cfc9f06965f8c2bae4f7"
   }
  }
 },
 "nbformat": 4,
 "nbformat_minor": 2
}
