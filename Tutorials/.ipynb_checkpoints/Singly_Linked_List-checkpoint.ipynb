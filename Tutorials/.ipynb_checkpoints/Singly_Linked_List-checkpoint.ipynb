{
 "cells": [
  {
   "cell_type": "code",
   "execution_count": 25,
   "id": "e5a7da2d",
   "metadata": {},
   "outputs": [
    {
     "name": "stdout",
     "output_type": "stream",
     "text": [
      "40 -> 1 -> 15 -> 10 -> 20 -> 30\n"
     ]
    }
   ],
   "source": [
    "## Constructing a node class\n",
    "\n",
    "class Node:\n",
    "    def __init__(self, value):\n",
    "        self.value = value\n",
    "        self.next = None\n",
    "        \n",
    "class LinkedList:\n",
    "    def __init__(self):\n",
    "        self.head= None\n",
    "        self.tail= None\n",
    "        self.length = 0\n",
    "      \n",
    "    ##Inserting at the end\n",
    "    def append(self, value):\n",
    "        new_node = Node(value)\n",
    "        if self.head is None:\n",
    "            self.head = new_node\n",
    "            self.tail = new_node\n",
    "        else:\n",
    "            self.tail.next = new_node\n",
    "            self.tail = new_node\n",
    "        self.length +=1\n",
    "        \n",
    "    def __str__(self):\n",
    "        current_node = self.head\n",
    "        result = ''\n",
    "        while current_node is not None:\n",
    "            result += str(current_node.value)\n",
    "            if current_node.next is not None:\n",
    "                result += ' -> '\n",
    "            current_node = current_node.next\n",
    "        return result\n",
    "    \n",
    "    def prepend(self, value):\n",
    "        new_node = Node(value)\n",
    "        if self.head is None:\n",
    "            self.head = new_node\n",
    "            self.tail = new_node\n",
    "        else:\n",
    "            new_node.next = self.head\n",
    "            self.head = new_node\n",
    "        self.length +=1\n",
    "        \n",
    "    def insert(self, value, index):\n",
    "        new_node = Node(value)\n",
    "        if self.head is None: ## edgecase: linkedlist is empty\n",
    "            self.head = new_node\n",
    "            self.tail = new_node\n",
    "        elif index ==0: ## edgecase inserting at the beginning of a linkedlist\n",
    "            new_node.next = self.head\n",
    "            self.head = new_node\n",
    "        else:\n",
    "            current_node = self.head\n",
    "            for _ in range(index-1):\n",
    "                current_node = current_node.next  \n",
    "            new_node.next = current_node.next\n",
    "            current_node.next = new_node\n",
    "        self.length +=1\n",
    "            \n",
    "        \n",
    "\n",
    "new_linkedlist = LinkedList() ##Time and space complexity is O(1)\n",
    "new_linkedlist.insert(1,0)\n",
    "new_linkedlist.append(10)\n",
    "new_linkedlist.append(20)\n",
    "new_linkedlist.append(30)\n",
    "new_linkedlist.prepend(40)\n",
    "new_linkedlist.insert(15,2)\n",
    "print(new_linkedlist)"
   ]
  },
  {
   "cell_type": "code",
   "execution_count": null,
   "id": "8093fa3c",
   "metadata": {},
   "outputs": [],
   "source": []
  }
 ],
 "metadata": {
  "kernelspec": {
   "display_name": "Python 3 (ipykernel)",
   "language": "python",
   "name": "python3"
  },
  "language_info": {
   "codemirror_mode": {
    "name": "ipython",
    "version": 3
   },
   "file_extension": ".py",
   "mimetype": "text/x-python",
   "name": "python",
   "nbconvert_exporter": "python",
   "pygments_lexer": "ipython3",
   "version": "3.8.15"
  }
 },
 "nbformat": 4,
 "nbformat_minor": 5
}
