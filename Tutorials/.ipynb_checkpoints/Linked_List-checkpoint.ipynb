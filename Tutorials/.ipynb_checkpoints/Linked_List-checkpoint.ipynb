{
 "cells": [
  {
   "cell_type": "code",
   "execution_count": 7,
   "id": "e5a7da2d",
   "metadata": {},
   "outputs": [
    {
     "ename": "TypeError",
     "evalue": "__init__() takes 1 positional argument but 2 were given",
     "output_type": "error",
     "traceback": [
      "\u001b[1;31m---------------------------------------------------------------------------\u001b[0m",
      "\u001b[1;31mTypeError\u001b[0m                                 Traceback (most recent call last)",
      "Cell \u001b[1;32mIn[7], line 14\u001b[0m\n\u001b[0;32m     11\u001b[0m         \u001b[38;5;28mself\u001b[39m\u001b[38;5;241m.\u001b[39mtail\u001b[38;5;241m=\u001b[39m \u001b[38;5;28;01mNone\u001b[39;00m\n\u001b[0;32m     12\u001b[0m         \u001b[38;5;28mself\u001b[39m\u001b[38;5;241m.\u001b[39mlength \u001b[38;5;241m=\u001b[39m \u001b[38;5;241m0\u001b[39m\n\u001b[1;32m---> 14\u001b[0m new_linkedlist \u001b[38;5;241m=\u001b[39m \u001b[43mLinkedList\u001b[49m\u001b[43m(\u001b[49m\u001b[38;5;241;43m10\u001b[39;49m\u001b[43m)\u001b[49m \u001b[38;5;66;03m##Time and space complexity is O(1)\u001b[39;00m\n\u001b[0;32m     15\u001b[0m \u001b[38;5;28mprint\u001b[39m(new_linkedlist\u001b[38;5;241m.\u001b[39mhead\u001b[38;5;241m.\u001b[39mvalue)\n\u001b[0;32m     16\u001b[0m \u001b[38;5;28mprint\u001b[39m(new_linkedlist\u001b[38;5;241m.\u001b[39mtail\u001b[38;5;241m.\u001b[39mvalue)\n",
      "\u001b[1;31mTypeError\u001b[0m: __init__() takes 1 positional argument but 2 were given"
     ]
    }
   ],
   "source": [
    "## Constructing a node class\n",
    "\n",
    "class Node:\n",
    "    def __init__(self, value):\n",
    "        self.value = value\n",
    "        self.next = None\n",
    "        \n",
    "class LinkedList:\n",
    "    def __init__(self):\n",
    "        self.head= None\n",
    "        self.tail= None\n",
    "        self.length = 0\n",
    "        \n",
    "    def append(self, value):\n",
    "        new_node = Node(value)\n",
    "        if self.head is None:\n",
    "            self.head = new_node\n",
    "            self.tail = new_node\n",
    "        else:\n",
    "            self.tail.next = new_node\n",
    "            self.tail = new_node\n",
    "        self.length +=1\n",
    "\n",
    "# new_linkedlist = LinkedList(10) ##Time and space complexity is O(1)\n",
    "# print(new_linkedlist.head.value)\n",
    "#print(new_linkedlist.tail.value)"
   ]
  },
  {
   "cell_type": "markdown",
   "id": "6e8bbcbb",
   "metadata": {},
   "source": [
    "## Linked List Insertion"
   ]
  },
  {
   "cell_type": "code",
   "execution_count": null,
   "id": "a67ae2c4",
   "metadata": {},
   "outputs": [],
   "source": [
    "# 1.Inserting new node at the end"
   ]
  }
 ],
 "metadata": {
  "kernelspec": {
   "display_name": "Python 3 (ipykernel)",
   "language": "python",
   "name": "python3"
  },
  "language_info": {
   "codemirror_mode": {
    "name": "ipython",
    "version": 3
   },
   "file_extension": ".py",
   "mimetype": "text/x-python",
   "name": "python",
   "nbconvert_exporter": "python",
   "pygments_lexer": "ipython3",
   "version": "3.8.15"
  }
 },
 "nbformat": 4,
 "nbformat_minor": 5
}
