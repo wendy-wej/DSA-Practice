{
 "cells": [
  {
   "cell_type": "code",
   "execution_count": 3,
   "metadata": {},
   "outputs": [
    {
     "name": "stdout",
     "output_type": "stream",
     "text": [
      "haonrovert\n"
     ]
    }
   ],
   "source": [
    "## not exactly ideal as it doesnt use pop and append\n",
    "## Sope Solution\n",
    "def reversed_string(my_str):\n",
    "    arr = \"\"\n",
    "    i = len(my_str) -1\n",
    "\n",
    "    while i >=0:\n",
    "        arr += (my_str[i])\n",
    "        i -=1\n",
    "    return arr\n",
    "\n",
    "my_str = 'trevornoah'\n",
    "print(reversed_string(my_str))"
   ]
  },
  {
   "cell_type": "code",
   "execution_count": 22,
   "metadata": {},
   "outputs": [
    {
     "name": "stdout",
     "output_type": "stream",
     "text": [
      "10\n",
      "['h', 'a', 'o', 'n', 'r', 'o', 'v', 'e', 'r', 't']\n",
      "haonrovert\n",
      "None\n"
     ]
    }
   ],
   "source": [
    "## not exactly ideal as it doesnt use pop and append \n",
    "#MY SOLUTION\n",
    "def reversed_string(my_str):\n",
    "    rev_array = []\n",
    "    x = list(my_str)\n",
    "    print(len(x))\n",
    "    for i in range(len(x)):\n",
    "        rev_array.append(x[-i-1])\n",
    "    print(rev_array)\n",
    "    new_string = \"\".join(rev_array)\n",
    "    print(new_string)\n",
    "my_str = 'trevornoah'\n",
    "print(reversed_string(my_str))"
   ]
  },
  {
   "cell_type": "code",
   "execution_count": 1,
   "metadata": {},
   "outputs": [
    {
     "name": "stdout",
     "output_type": "stream",
     "text": [
      "semaJ\n"
     ]
    }
   ],
   "source": [
    "## Dr Kazeem Solution \n",
    "def rev_string(s): \n",
    "    stack2 = []  \n",
    "    stack = list(s)   \n",
    "    while len(stack) >0:       \n",
    "        stack2.append(stack.pop())\n",
    "        answer = '' .join(stack2) \n",
    "    return answer\n",
    "\n",
    "print(rev_string(\"James\"))"
   ]
  },
  {
   "cell_type": "code",
   "execution_count": null,
   "metadata": {},
   "outputs": [
    {
     "ename": "",
     "evalue": "",
     "output_type": "error",
     "traceback": [
      "\u001b[1;31mRunning cells with 'c:\\Python311\\python.exe' requires ipykernel package.\n",
      "\u001b[1;31mRun the following command to install 'ipykernel' into the Python environment. \n",
      "\u001b[1;31mCommand: 'c:/Python311/python.exe -m pip install ipykernel -U --user --force-reinstall'"
     ]
    }
   ],
   "source": [
    "# Python program to\n",
    "# demonstrate stack implementation\n",
    "# using queue module\n",
    " \n",
    "from queue import LifoQueue\n",
    " \n",
    "# Initializing a stack\n",
    "stack = LifoQueue(maxsize=3)\n",
    " \n",
    "# qsize() show the number of elements\n",
    "# in the stack\n",
    "print(stack.qsize())\n",
    " \n",
    "# put() function to push\n",
    "# element in the stack\n",
    "stack.put('a')\n",
    "stack.put('b')\n",
    "stack.put('c')\n",
    " \n",
    "print(\"Full: \", stack.full())\n",
    "print(\"Size: \", stack.qsize())\n",
    " \n",
    "# get() function to pop\n",
    "# element from stack in\n",
    "# LIFO order\n",
    "print('\\nElements popped from the stack')\n",
    "print(stack.get())\n",
    "print(stack.get())\n",
    "print(stack.get())\n",
    " \n",
    "print(\"\\nEmpty: \", stack.empty())"
   ]
  },
  {
   "cell_type": "code",
   "execution_count": null,
   "metadata": {},
   "outputs": [],
   "source": [
    "# Python program to demonstrate\n",
    "# stack implementation using a linked list.\n",
    "# node class\n",
    "\n",
    "class Node:\n",
    "\tdef __init__(self, value):\n",
    "\t\tself.value = value\n",
    "\t\tself.next = None\n",
    "\n",
    "\n",
    "class Stack:\n",
    "\n",
    "\t# Initializing a stack.\n",
    "\t# Use a dummy node, which is\n",
    "\t# easier for handling edge cases.\n",
    "\tdef __init__(self):\n",
    "\t\tself.head = Node(\"head\")\n",
    "\t\tself.size = 0\n",
    "\n",
    "\t# String representation of the stack\n",
    "\tdef __str__(self):\n",
    "\t\tcur = self.head.next\n",
    "\t\tout = \"\"\n",
    "\t\twhile cur:\n",
    "\t\t\tout += str(cur.value) + \"->\"\n",
    "\t\t\tcur = cur.next\n",
    "\t\treturn out[:-3]\n",
    "\n",
    "\t# Get the current size of the stack\n",
    "\tdef getSize(self):\n",
    "\t\treturn self.size\n",
    "\n",
    "\t# Check if the stack is empty\n",
    "\tdef isEmpty(self):\n",
    "\t\treturn self.size == 0\n",
    "\n",
    "\t# Get the top item of the stack\n",
    "\tdef peek(self):\n",
    "\n",
    "\t\t# Sanitary check to see if we\n",
    "\t\t# are peeking an empty stack.\n",
    "\t\tif self.isEmpty():\n",
    "\t\t\traise Exception(\"Peeking from an empty stack\")\n",
    "\t\treturn self.head.next.value\n",
    "\n",
    "\t# Push a value into the stack.\n",
    "\tdef push(self, value):\n",
    "\t\tnode = Node(value)\n",
    "\t\tnode.next = self.head.next\n",
    "\t\tself.head.next = node\n",
    "\t\tself.size += 1\n",
    "\n",
    "\t# Remove a value from the stack and return.\n",
    "\tdef pop(self):\n",
    "\t\tif self.isEmpty():\n",
    "\t\t\traise Exception(\"Popping from an empty stack\")\n",
    "\t\tremove = self.head.next\n",
    "\t\tself.head.next = self.head.next.next\n",
    "\t\tself.size -= 1\n",
    "\t\treturn remove.value\n",
    "\n",
    "\n",
    "# Driver Code\n",
    "if __name__ == \"__main__\":\n",
    "\tstack = Stack()\n",
    "\tfor i in range(1, 11):\n",
    "\t\tstack.push(i)\n",
    "\tprint(f\"Stack: {stack}\")\n",
    "\n",
    "\tfor _ in range(1, 6):\n",
    "\t\tremove = stack.pop()\n",
    "\t\tprint(f\"Pop: {remove}\")\n",
    "\tprint(f\"Stack: {stack}\")\n"
   ]
  },
  {
   "cell_type": "code",
   "execution_count": null,
   "metadata": {},
   "outputs": [
    {
     "ename": "",
     "evalue": "",
     "output_type": "error",
     "traceback": [
      "\u001b[1;31mFailed to start the Kernel. \n",
      "\u001b[1;31mUnable to start Kernel 'Anaconda files (Python 3.8.5)' due to connection timeout. \n",
      "\u001b[1;31mView Jupyter <a href='command:jupyter.viewOutput'>log</a> for further details."
     ]
    }
   ],
   "source": [
    "from collections import deque\n",
    "stack = []\n",
    "stack.append(19)\n",
    "stack.append(42)\n",
    "stack.append(98)\n",
    "print(stack)\n",
    "stack.remove(stack[2])\n",
    "print(stack)\n"
   ]
  }
 ],
 "metadata": {
  "kernelspec": {
   "display_name": "Python 3",
   "language": "python",
   "name": "python3"
  },
  "language_info": {
   "codemirror_mode": {
    "name": "ipython",
    "version": 3
   },
   "file_extension": ".py",
   "mimetype": "text/x-python",
   "name": "python",
   "nbconvert_exporter": "python",
   "pygments_lexer": "ipython3",
   "version": "3.8.15 | packaged by conda-forge | (default, Nov 22 2022, 08:43:00) [MSC v.1929 64 bit (AMD64)]"
  },
  "orig_nbformat": 4,
  "vscode": {
   "interpreter": {
    "hash": "f2407f60e953aec4fe3de76e4a8b6e23cb357e4faa70cfc9f06965f8c2bae4f7"
   }
  }
 },
 "nbformat": 4,
 "nbformat_minor": 2
}
