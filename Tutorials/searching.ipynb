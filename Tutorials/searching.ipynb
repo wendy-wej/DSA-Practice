{
 "cells": [
  {
   "cell_type": "code",
   "execution_count": 4,
   "metadata": {},
   "outputs": [
    {
     "name": "stdout",
     "output_type": "stream",
     "text": [
      "5\n"
     ]
    }
   ],
   "source": [
    "## Using Iteration\n",
    "def binary_search(listt, x):\n",
    "    n = len(listt)\n",
    "    low_index = 0\n",
    "    high_index = n - 1\n",
    "\n",
    "    while low_index <= high_index:\n",
    "        mid_index = low_index + ((high_index-low_index)//2)\n",
    "        midpoint = listt[mid_index]\n",
    "        \n",
    "        if midpoint == x:\n",
    "            return mid_index\n",
    "        \n",
    "        if x >= midpoint:\n",
    "            low_index = mid_index + 1\n",
    "\n",
    "        if x <= midpoint:\n",
    "            high_index = mid_index - 1\n",
    "    \n",
    "    return None\n",
    "\n",
    "print(binary_search([2,4,6,8,10,12,14], 12))\n",
    "\n",
    "\n",
    "\n",
    "\n"
   ]
  },
  {
   "cell_type": "code",
   "execution_count": 1,
   "metadata": {},
   "outputs": [
    {
     "name": "stdout",
     "output_type": "stream",
     "text": [
      "-1\n"
     ]
    }
   ],
   "source": [
    "#Sope Binary Search\n",
    "def binary_search(nums, target):\n",
    "    low = 0\n",
    "    high = len(nums) - 1\n",
    "\n",
    "    while (low < high):\n",
    "        mid = low + ((high - low)//2)   #left mid\n",
    "\n",
    "        if target > nums[mid]:\n",
    "            low = mid + 1\n",
    "        else:\n",
    "            high = mid\n",
    "\n",
    "    # out of the while loop i.e when low=high or low>high\n",
    "    if target == nums[low]:\n",
    "        return low\n",
    "    else:\n",
    "        return -1\n",
    "print(binary_search([2,4,6,8,10,12,14], 13))"
   ]
  },
  {
   "cell_type": "code",
   "execution_count": 3,
   "metadata": {},
   "outputs": [
    {
     "name": "stdout",
     "output_type": "stream",
     "text": [
      "[6, 9, 13, 18, 24, 31, 39]\n"
     ]
    }
   ],
   "source": [
    "def fixed_sliding_window(arr, k):\n",
    "    #This is to sum up the first sub-array\n",
    "    curr_subarray = sum(arr[:k])\n",
    "    result = [curr_subarray]\n",
    "\n",
    "    #This is to get subsequent sub-arrays\n",
    "    ##We do this by adding the next value and removing the previous value\n",
    "\n",
    "    for i in range(1, len(arr)-k+1):\n",
    "        curr_subarray -= arr[i-i]\n",
    "        curr_subarray += arr[i+k-1]\n",
    "\n",
    "        result.append(curr_subarray)\n",
    "    return result\n",
    "\n",
    "print(fixed_sliding_window([1,2,3,4,5,6,7,8,9], 3))\n"
   ]
  },
  {
   "cell_type": "code",
   "execution_count": 8,
   "metadata": {},
   "outputs": [
    {
     "name": "stdout",
     "output_type": "stream",
     "text": [
      "True\n"
     ]
    }
   ],
   "source": [
    "d = [80, 67, 12, 56, 7, 8, 9, 10]\n",
    "\n",
    "def finder(num_to_find):\n",
    "    for i in range(len(d)):\n",
    "        if d[i] == num_to_find:\n",
    "            return True\n",
    "    return False\n",
    "\n",
    "print(finder(10))"
   ]
  },
  {
   "cell_type": "code",
   "execution_count": null,
   "metadata": {},
   "outputs": [],
   "source": []
  }
 ],
 "metadata": {
  "kernelspec": {
   "display_name": "Python 3.8.5 ('base')",
   "language": "python",
   "name": "python3"
  },
  "language_info": {
   "codemirror_mode": {
    "name": "ipython",
    "version": 3
   },
   "file_extension": ".py",
   "mimetype": "text/x-python",
   "name": "python",
   "nbconvert_exporter": "python",
   "pygments_lexer": "ipython3",
   "version": "3.8.5 (default, Sep  3 2020, 21:29:08) [MSC v.1916 64 bit (AMD64)]"
  },
  "orig_nbformat": 4,
  "vscode": {
   "interpreter": {
    "hash": "f2407f60e953aec4fe3de76e4a8b6e23cb357e4faa70cfc9f06965f8c2bae4f7"
   }
  }
 },
 "nbformat": 4,
 "nbformat_minor": 2
}
