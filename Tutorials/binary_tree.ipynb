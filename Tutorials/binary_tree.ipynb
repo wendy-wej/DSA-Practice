{
 "cells": [
  {
   "cell_type": "code",
   "execution_count": 6,
   "metadata": {},
   "outputs": [
    {
     "ename": "TypeError",
     "evalue": "can only concatenate str (not \"int\") to str",
     "output_type": "error",
     "traceback": [
      "\u001b[1;31m---------------------------------------------------------------------------\u001b[0m",
      "\u001b[1;31mTypeError\u001b[0m                                 Traceback (most recent call last)",
      "Cell \u001b[1;32mIn[6], line 28\u001b[0m\n\u001b[0;32m     26\u001b[0m tree\u001b[39m.\u001b[39maddChild(cola)\n\u001b[0;32m     27\u001b[0m tree\u001b[39m.\u001b[39maddChild(sprite)\n\u001b[1;32m---> 28\u001b[0m \u001b[39mprint\u001b[39;49m(tree)\n",
      "Cell \u001b[1;32mIn[6], line 7\u001b[0m, in \u001b[0;36mTreeNode.__str__\u001b[1;34m(self, level)\u001b[0m\n\u001b[0;32m      6\u001b[0m \u001b[39mdef\u001b[39;00m \u001b[39m__str__\u001b[39m(\u001b[39mself\u001b[39m, level \u001b[39m=\u001b[39m \u001b[39m0\u001b[39m):\n\u001b[1;32m----> 7\u001b[0m     ret \u001b[39m=\u001b[39m \u001b[39m\"\u001b[39;49m\u001b[39m  \u001b[39;49m\u001b[39m\"\u001b[39;49m \u001b[39m+\u001b[39;49m level \u001b[39m+\u001b[39m \u001b[39mstr\u001b[39m(\u001b[39mself\u001b[39m\u001b[39m.\u001b[39mdata) \u001b[39m+\u001b[39m \u001b[39m\"\u001b[39m\u001b[39m\\n\u001b[39;00m\u001b[39m\"\u001b[39m\n\u001b[0;32m      8\u001b[0m     \u001b[39mfor\u001b[39;00m child \u001b[39min\u001b[39;00m \u001b[39mself\u001b[39m\u001b[39m.\u001b[39mchildren:\n\u001b[0;32m      9\u001b[0m         ret \u001b[39m+\u001b[39m\u001b[39m=\u001b[39m child\u001b[39m.\u001b[39m\u001b[39m__str__\u001b[39m(level \u001b[39m+\u001b[39m \u001b[39m1\u001b[39m)\n",
      "\u001b[1;31mTypeError\u001b[0m: can only concatenate str (not \"int\") to str"
     ]
    }
   ],
   "source": [
    "class TreeNode:\n",
    "    def __init__(self, data, children=[]) :\n",
    "        self.data = data\n",
    "        self.children = children\n",
    "    \n",
    "    def __str__(self, level=0):\n",
    "        ret = \"  \" * level + str(self.data) + \"\\n\"\n",
    "        for child in self.children:\n",
    "            ret += child.__str__(level + 1)\n",
    "        return ret\n",
    "    \n",
    "    def addChild(self, TreeNode):\n",
    "        self.children.append(TreeNode)\n",
    "        \n",
    "tree = TreeNode(\"Drinks\", [])\n",
    "cold = TreeNode(\"Cold\", [])\n",
    "hot = TreeNode(\"Hot\", [])\n",
    "tree.addChild(cold)\n",
    "tree.addChild(hot)\n",
    "tea = TreeNode(\"Tea\", [])\n",
    "coffee = TreeNode(\"Coffee\", [])\n",
    "cola = TreeNode(\"Cola\", [])\n",
    "sprite = TreeNode(\"Sprite\", [])\n",
    "tree.addChild(tea)\n",
    "tree.addChild(coffee)\n",
    "tree.addChild(cola)\n",
    "tree.addChild(sprite)\n",
    "print(tree)"
   ]
  },
  {
   "cell_type": "code",
   "execution_count": null,
   "metadata": {},
   "outputs": [],
   "source": []
  }
 ],
 "metadata": {
  "kernelspec": {
   "display_name": "Python 3",
   "language": "python",
   "name": "python3"
  },
  "language_info": {
   "codemirror_mode": {
    "name": "ipython",
    "version": 3
   },
   "file_extension": ".py",
   "mimetype": "text/x-python",
   "name": "python",
   "nbconvert_exporter": "python",
   "pygments_lexer": "ipython3",
   "version": "3.11.4"
  },
  "orig_nbformat": 4
 },
 "nbformat": 4,
 "nbformat_minor": 2
}
