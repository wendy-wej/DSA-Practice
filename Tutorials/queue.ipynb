{
 "cells": [
  {
   "cell_type": "code",
   "execution_count": null,
   "metadata": {},
   "outputs": [
    {
     "ename": "",
     "evalue": "",
     "output_type": "error",
     "traceback": [
      "\u001b[1;31mFailed to start the Kernel. \n",
      "\u001b[1;31mUnable to start Kernel 'base (Python 3.8.5)' due to connection timeout. \n",
      "\u001b[1;31mView Jupyter <a href='command:jupyter.viewOutput'>log</a> for further details."
     ]
    }
   ],
   "source": [
    "from collections import deque\n",
    "\n",
    "def PalindromeChecker(mystr):\n",
    "    x = deque(list(mystr))\n",
    "    y = deque(list(mystr))\n",
    "\n",
    "    while len(x) >0:\n",
    "        r = x.pop()\n",
    "        l = y.popleft()\n",
    "        if (l != r):\n",
    "            word = \"Not a palindrome!!\"\n",
    "            break\n",
    "        else:\n",
    "            word = \"Palindrome\"\n",
    "    return word\n",
    "\n",
    "mystr = \"ebube\"\n",
    "print(PalindromeChecker(mystr))\n",
    "        \n"
   ]
  },
  {
   "cell_type": "code",
   "execution_count": 33,
   "metadata": {},
   "outputs": [
    {
     "name": "stdout",
     "output_type": "stream",
     "text": [
      "False\n"
     ]
    }
   ],
   "source": [
    "from collections import deque\n",
    "\n",
    "def ValidParenthesis(s):\n",
    "    open_stack = deque()\n",
    "\n",
    "    reference = {\n",
    "        \")\":\"(\",\n",
    "        \"}\":\"{\",\n",
    "        \"]\":\"[\",\n",
    "    }\n",
    "\n",
    "    for i in s:\n",
    "        if i in reference.values():\n",
    "            open_stack.append(i)\n",
    "        elif i in reference.keys():\n",
    "            if open_stack and open_stack[-1] == reference[i]:\n",
    "                open_stack.pop()\n",
    "            else:\n",
    "                return False\n",
    "\n",
    "    if len(open_stack) == 0:\n",
    "        return True\n",
    "    else:\n",
    "        return False\n",
    "#s = \"(){}[()]\"\n",
    "s =\"]\"\n",
    "print(ValidParenthesis(s))"
   ]
  }
 ],
 "metadata": {
  "kernelspec": {
   "display_name": "Python 3.8.5 ('base')",
   "language": "python",
   "name": "python3"
  },
  "language_info": {
   "codemirror_mode": {
    "name": "ipython",
    "version": 3
   },
   "file_extension": ".py",
   "mimetype": "text/x-python",
   "name": "python",
   "nbconvert_exporter": "python",
   "pygments_lexer": "ipython3",
   "version": "3.8.15 | packaged by conda-forge | (default, Nov 22 2022, 08:43:00) [MSC v.1929 64 bit (AMD64)]"
  },
  "orig_nbformat": 4,
  "vscode": {
   "interpreter": {
    "hash": "f2407f60e953aec4fe3de76e4a8b6e23cb357e4faa70cfc9f06965f8c2bae4f7"
   }
  }
 },
 "nbformat": 4,
 "nbformat_minor": 2
}
