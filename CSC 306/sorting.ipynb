{
 "cells": [
  {
   "cell_type": "code",
   "execution_count": 4,
   "metadata": {},
   "outputs": [
    {
     "name": "stdout",
     "output_type": "stream",
     "text": [
      "[17, 20, 26, 31, 44, 54, 55, 77, 93]\n"
     ]
    }
   ],
   "source": [
    "def bubble_sort(a_list):\n",
    "    for pass_num in range(len(a_list) - 1, 0, -1):\n",
    "        for i in range(pass_num):\n",
    "            if a_list[i] > a_list[i + 1]:\n",
    "                a_list[i], a_list[i + 1] = a_list[i +1], a_list[i]\n",
    "a_list = [54, 26, 93, 17, 77, 31, 44, 55, 20]\n",
    "bubble_sort(a_list)\n",
    "print(a_list)"
   ]
  },
  {
   "cell_type": "code",
   "execution_count": 18,
   "metadata": {},
   "outputs": [
    {
     "name": "stdout",
     "output_type": "stream",
     "text": [
      "[5, 10, 20, 40, 60, 80, 90, 100, 500, 2000]\n"
     ]
    }
   ],
   "source": [
    "def short_bubble_sort(a_list):\n",
    "    exchanges = True\n",
    "    pass_num = len(a_list) - 1\n",
    "    while pass_num > 0 and exchanges:\n",
    "        exchanges = False\n",
    "        for i in range(pass_num):\n",
    "            if a_list[i] > a_list[i + 1]:\n",
    "                exchanges = True\n",
    "                a_list[i], a_list[i + 1] =  a_list[i + 1],  a_list[i]\n",
    "        pass_num -= 1\n",
    "    return a_list\n",
    "a_list = [20, 2000, 40, 90, 500, 60, 10, 80, 100, 5]\n",
    "print(short_bubble_sort(a_list))"
   ]
  },
  {
   "cell_type": "code",
   "execution_count": null,
   "metadata": {},
   "outputs": [],
   "source": [
    "def selection_sort(a_list):\n",
    "    for fill_slot in range(len(a_list) - 1, 0, -1):\n",
    "        pos_of_max = 0\n",
    "        for location in range(1, fill_slot + 1):\n",
    "            if a_list[location] > a_list[pos_of_max]:\n",
    "                pos_of_max = location\n",
    "        a_list[fill_slot], a_list[pos_of_max] =  a_list[pos_of_max], a_list[fill_slot]\n",
    "\n",
    "a_list = [54, 26, 93, 17, 77, 31, 44, 55, 20]\n",
    "selection_sort(a_list)\n",
    "print(a_list)"
   ]
  },
  {
   "cell_type": "code",
   "execution_count": 19,
   "metadata": {},
   "outputs": [
    {
     "name": "stdout",
     "output_type": "stream",
     "text": [
      "[17, 20, 26, 31, 44, 54, 55, 77, 93]\n"
     ]
    }
   ],
   "source": [
    "def insertion_sort(array):\n",
    "    for i in range(1, len(array)):\n",
    "        j = i\n",
    "        while (array[j-1]> array[j] and j>0):\n",
    "            array[j], array[j-1] = array[j-1], array[j]\n",
    "            j = j -1\n",
    "    return array\n",
    "\n",
    "a_list = [54, 26, 93, 17, 77, 31, 44, 55, 20]\n",
    "print(insertion_sort(a_list))\n",
    "        "
   ]
  },
  {
   "cell_type": "code",
   "execution_count": 22,
   "metadata": {},
   "outputs": [
    {
     "name": "stdout",
     "output_type": "stream",
     "text": [
      "None\n",
      "[4, 5, 10, 20, 40]\n"
     ]
    }
   ],
   "source": [
    "##Merge sort code\n",
    "\n",
    "nums1 = [20,4,5,40,10]\n",
    "def st(nums1):\n",
    "    if(len(nums1) >1):\n",
    "        mid = len(nums1)//2\n",
    "        left = nums1[:mid]\n",
    "        right = nums1[mid:]\n",
    "        st(left)\n",
    "        st(right)\n",
    "\n",
    "        l = 0\n",
    "        r = 0\n",
    "        k = 0\n",
    "\n",
    "        while(l < len(left) and r < len(right)):\n",
    "            if(left[l] < right[r]):\n",
    "                nums1[k] = left[l]\n",
    "                k = k +1\n",
    "                l = l+1\n",
    "            else:\n",
    "                nums1[k] = right[r]\n",
    "                k = k + 1\n",
    "                r = r + 1\n",
    "\n",
    "        while(l < len(left)):\n",
    "            nums1[k] = left[l]\n",
    "            k = k + 1\n",
    "            l = l + 1\n",
    "\n",
    "        while (r < len(right)):\n",
    "            nums1[k] = right[r]\n",
    "            k = k + 1\n",
    "            r = r + 1\n",
    "\n",
    "\n",
    "\n",
    "\n",
    "\n",
    "print(st(nums1))\n",
    "print(nums1)"
   ]
  },
  {
   "cell_type": "code",
   "execution_count": 27,
   "metadata": {},
   "outputs": [
    {
     "name": "stdout",
     "output_type": "stream",
     "text": [
      "<__main__.Node object at 0x0000028F6D0A5250>\n",
      "<class '__main__.Node'>\n"
     ]
    }
   ],
   "source": [
    "class Node:\n",
    "    def __init__(self,val,n=None):\n",
    "        self.val = val\n",
    "        self.next = n\n",
    "\n",
    "\n",
    "node1 = Node (10)\n",
    "node2 = Node (4)\n",
    "node3 = Node (1)\n",
    "node4 = Node (16)\n",
    "\n",
    "node1.next = node2\n",
    "node2.next = node3\n",
    "node3.next = node4\n",
    "\n",
    "dummy = Node(-500,node1)\n",
    "s = node1\n",
    "c = node1.next\n",
    "\n",
    "while(c):\n",
    "\n",
    "    if( s.val <c.val):\n",
    "        s = s.next\n",
    "        c = c.next\n",
    "        \n",
    "    else:\n",
    "        t = dummy\n",
    "\n",
    "        while(t.next.val < c.val):\n",
    "            t = t.next\n",
    "\n",
    "        s.next = c.next\n",
    "        c.next = t.next\n",
    "        t.next = c\n",
    "        c = s.next\n",
    "\n",
    "print(dummy) # this prints the sorted linked list\n",
    "print(Node)"
   ]
  }
 ],
 "metadata": {
  "kernelspec": {
   "display_name": "Python 3",
   "language": "python",
   "name": "python3"
  },
  "language_info": {
   "codemirror_mode": {
    "name": "ipython",
    "version": 3
   },
   "file_extension": ".py",
   "mimetype": "text/x-python",
   "name": "python",
   "nbconvert_exporter": "python",
   "pygments_lexer": "ipython3",
   "version": "3.8.15"
  },
  "orig_nbformat": 4,
  "vscode": {
   "interpreter": {
    "hash": "f2407f60e953aec4fe3de76e4a8b6e23cb357e4faa70cfc9f06965f8c2bae4f7"
   }
  }
 },
 "nbformat": 4,
 "nbformat_minor": 2
}
