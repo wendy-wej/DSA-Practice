{
 "cells": [
  {
   "cell_type": "code",
   "execution_count": 18,
   "metadata": {},
   "outputs": [
    {
     "name": "stdout",
     "output_type": "stream",
     "text": [
      "Pre-order Traversal of our tree\n",
      "[1, 3, 4, 5, 6, 7, 8, 9, 23]\n",
      "My Max depth function\n",
      "4\n"
     ]
    }
   ],
   "source": [
    "class BST:\n",
    "    def __init__(self, value):\n",
    "        self.value = value\n",
    "        self.left = None\n",
    "        self.right = None\n",
    "\n",
    "def add_to_Binary_Search_Tree(node, value_to_add):\n",
    "    if(node.value == value_to_add):\n",
    "        return \n",
    "\n",
    "    if(node.value > value_to_add):\n",
    "        if(node.left):\n",
    "            add_to_Binary_Search_Tree(node.left, value_to_add)\n",
    "        else:\n",
    "            node.left = BST(value_to_add)\n",
    "\n",
    "    if (node.value < value_to_add):\n",
    "        if (node.right):\n",
    "            add_to_Binary_Search_Tree(node.right, value_to_add)\n",
    "        else:\n",
    "            node.right = BST(value_to_add)\n",
    "\n",
    "my_list = [5, 4, 9, 7, 3, 6,1, 8,23]\n",
    "node = BST(my_list[0])\n",
    "for i in my_list[1:]:\n",
    "    add_to_Binary_Search_Tree(node, i)\n",
    "\n",
    "print(\"Pre-order Traversal of our tree\")\n",
    "def inorder(node):\n",
    "    if (node==None):\n",
    "        return []\n",
    "    return  inorder(node.left) + [node.value] + inorder(node.right) \n",
    "\n",
    "print(inorder(node))\n",
    "\n",
    "print(\"My Max depth function\")\n",
    "\n",
    "def max_depth(node):\n",
    "    if(node == None):\n",
    "        return 0\n",
    "    \n",
    "\n",
    "    left = max_depth(node.left)\n",
    "    right = max_depth(node.right)\n",
    "\n",
    "    \n",
    "\n",
    "    if(left > right):\n",
    "        left +=1\n",
    "        return left\n",
    "    else:\n",
    "        right +=1\n",
    "        return right\n",
    "\n",
    "print(max_depth(node))\n",
    "\n",
    "    "
   ]
  },
  {
   "cell_type": "code",
   "execution_count": 2,
   "metadata": {},
   "outputs": [
    {
     "name": "stdout",
     "output_type": "stream",
     "text": [
      "Inorder Traversal:\n",
      "[12, 14, 19, 23, 54, 67, 72]\n",
      "Pre-order Traversal:\n",
      "[23, 14, 12, 19, 54, 72, 67]\n",
      "Post-order Traversal:\n",
      "[12, 19, 14, 67, 72, 54, 23]\n"
     ]
    }
   ],
   "source": [
    "class BST: ##This is our class for making our binary search tree\n",
    "    def __init__(self, value): ## our constructor takes in only one argument which is 'value'\n",
    "        #Each object we will create will have 3 attributes: \n",
    "        self.value = value  # A value attribute\n",
    "        self.left = None    #An attribute that tells us the value on the left\n",
    "        self.right = None  #An attribute that tells us the value on the right\n",
    "\n",
    "def adder(node, value_to_add): ##It takes our node and the value to add\n",
    "    if(node.value == value_to_add): #If our value to add is the same as the node then ignore.\n",
    "        return\n",
    "    \n",
    "    #Here we are asking if the value we want to add is greater than our node. \n",
    "    if(node.value > value_to_add): #If yes...\n",
    "        if(node.left):  #Here we check if there is already a node on the left of our value\n",
    "            adder(node.left, value_to_add) #if there is, then we compare it with our value_to_add and start again\n",
    "        else: #If no...\n",
    "            node.left = BST(value_to_add) #put our value_to_add as the left node\n",
    "\n",
    "    if(node.value < value_to_add):\n",
    "        if(node.right):  #Here we check if there is already a node on the right of our value\n",
    "            adder(node.right, value_to_add) #if there is, then we compare it with our value_to_add and start again\n",
    "        else:  #If no...\n",
    "            node.right = BST(value_to_add)  #put our value_to_add as the right node\n",
    "\n",
    "\n",
    "#the_list = [6,4,8,7,1,5,3,0,9]\n",
    "the_list =[23,14,12,19,54,72,67]\n",
    "#the_list = [0,1,3,4,5,6,7]\n",
    "#our list of values that we hope to add to our tree\n",
    "##print(the_list[0:])\n",
    "node = BST(the_list[0])  #here we pass the first value of our list into our class and call it a 'node'\n",
    "\n",
    "for e in the_list[1:]: #we want to run through the elements of our list\n",
    "    adder(node, e) #this compares each value in the list to the first one e.g (5,4), (5,6), (5,7), e.t.c\n",
    "\n",
    "#print(node)\n",
    "\n",
    "#Node Traversals\n",
    "print(\"Inorder Traversal:\")\n",
    "def inorder_traversal(node):\n",
    "    if node == None:\n",
    "        return []\n",
    "    return inorder_traversal(node.left) + [node.value] + inorder_traversal(node.right) \n",
    "print(inorder_traversal(node))\n",
    "\n",
    "print(\"Pre-order Traversal:\")\n",
    "def preorder_traversal(node):\n",
    "    if node == None:\n",
    "        return []\n",
    "    return  [node.value]  + preorder_traversal(node.left) + preorder_traversal(node.right) \n",
    "print(preorder_traversal(node))\n",
    "\n",
    "print(\"Post-order Traversal:\")\n",
    "def postorder_traversal(node):\n",
    "    if node == None:\n",
    "        return []\n",
    "    return postorder_traversal(node.left)  + postorder_traversal(node.right) + [node.value] \n",
    "print(postorder_traversal(node))\n",
    "\n",
    "# def max_height(node):\n",
    "#     if node == None:\n",
    "#         return 0\n",
    "\n",
    "#     if \n",
    "\n",
    "#     left = max_height(node.left)\n",
    "#     right = max_height(node.right)"
   ]
  },
  {
   "cell_type": "code",
   "execution_count": 2,
   "metadata": {},
   "outputs": [
    {
     "name": "stdout",
     "output_type": "stream",
     "text": [
      "[20, 30, 10, 40]\n"
     ]
    }
   ],
   "source": [
    "def short_bubble_sort(a_list):\n",
    "    exchanges = True\n",
    "    pass_num = len(a_list) - 1\n",
    "    while pass_num > 0 and exchanges:\n",
    "        exchanges = False\n",
    "        for i in range(pass_num):\n",
    "            if a_list[i] > a_list[i + 1]:\n",
    "                exchanges = True\n",
    "                a_list[i], a_list[i + 1] =  a_list[i + 1],  a_list[i]\n",
    "        pass_num = pass_num - 2\n",
    "    return a_list\n",
    "a_list = [40,30,20,10]\n",
    "print(short_bubble_sort(a_list))\n"
   ]
  }
 ],
 "metadata": {
  "kernelspec": {
   "display_name": "base",
   "language": "python",
   "name": "python3"
  },
  "language_info": {
   "codemirror_mode": {
    "name": "ipython",
    "version": 3
   },
   "file_extension": ".py",
   "mimetype": "text/x-python",
   "name": "python",
   "nbconvert_exporter": "python",
   "pygments_lexer": "ipython3",
   "version": "3.8.15 | packaged by conda-forge | (default, Nov 22 2022, 08:43:00) [MSC v.1929 64 bit (AMD64)]"
  },
  "orig_nbformat": 4,
  "vscode": {
   "interpreter": {
    "hash": "f2407f60e953aec4fe3de76e4a8b6e23cb357e4faa70cfc9f06965f8c2bae4f7"
   }
  }
 },
 "nbformat": 4,
 "nbformat_minor": 2
}
