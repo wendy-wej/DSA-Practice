{
 "cells": [
  {
   "cell_type": "code",
   "execution_count": 2,
   "metadata": {},
   "outputs": [
    {
     "name": "stdout",
     "output_type": "stream",
     "text": [
      "adnamA\n"
     ]
    }
   ],
   "source": [
    "## STACKS\n",
    "def rev_string(s): \n",
    "    stack2 = []\n",
    "    stack = list(s)\n",
    "    while len(stack) >0:\n",
    "        stack2.append(stack.pop())\n",
    "    answer = \"\".join(stack2)\n",
    "    return answer\n",
    "\n",
    "print(rev_string(\"Amanda\"))"
   ]
  },
  {
   "cell_type": "code",
   "execution_count": 10,
   "metadata": {},
   "outputs": [
    {
     "name": "stdout",
     "output_type": "stream",
     "text": [
      "Palindrome\n"
     ]
    }
   ],
   "source": [
    "## QUEUES \n",
    "from collections import deque\n",
    "\n",
    "def PalindromeChecker(mystr):\n",
    "    x = deque(list(mystr))\n",
    "    y = deque(list(mystr))\n",
    "\n",
    "    while len(x) >0:\n",
    "        r = x.pop()\n",
    "        l = y.popleft()\n",
    "        if (l != r):\n",
    "            word = \"Not a palindrome!!\"\n",
    "            break\n",
    "        else:\n",
    "            word = \"Palindrome\"\n",
    "    return word\n",
    "\n",
    "mystr = \"ebube\"\n",
    "print(PalindromeChecker(mystr))"
   ]
  },
  {
   "cell_type": "code",
   "execution_count": 14,
   "metadata": {},
   "outputs": [
    {
     "name": "stdout",
     "output_type": "stream",
     "text": [
      "True\n"
     ]
    }
   ],
   "source": [
    "## Sequential search\n",
    "d = [80, 67, 12, 56, 7, 8, 9, 0]\n",
    "def finder(the_vale_to_find):\n",
    "    for element in d:\n",
    "        if(element == the_vale_to_find):\n",
    "            return True\n",
    "    return False\n",
    "print(finder(9))"
   ]
  },
  {
   "cell_type": "code",
   "execution_count": 23,
   "metadata": {},
   "outputs": [
    {
     "name": "stdout",
     "output_type": "stream",
     "text": [
      " the other false\n"
     ]
    }
   ],
   "source": [
    "## Ordered sequential search\n",
    "d = [2, 6, 7, 8, 11, 14, 26]\n",
    "\n",
    "def finder(the_vale_to_find):\n",
    "    for element in d:\n",
    "        if(element == the_vale_to_find):\n",
    "            return True\n",
    "        if(element > the_vale_to_find):\n",
    "            return False\n",
    "    return(\" the other false\")\n",
    "print(finder(11))"
   ]
  },
  {
   "cell_type": "code",
   "execution_count": null,
   "metadata": {},
   "outputs": [],
   "source": [
    "## Binary Search\n",
    "\n",
    "def binary_search(listt, item):\n",
    "    first = 0\n",
    "    last = len(listt) - 1\n",
    "    found = False\n",
    "    while first <= last and found == False:\n",
    "        midpoint = (first + last) //2\n",
    "        if listt[midpoint] == item:\n",
    "            found = True\n",
    "        else:\n",
    "            if item > listt[midpoint]:\n",
    "                first = midpoint + 1\n",
    "            else:\n",
    "                last = midpoint - 1\n",
    "    return found\n",
    "\n",
    "listt = [0,1,2,8,13,17,19,32,42]\n",
    "print(binary_search(listt, 17))"
   ]
  },
  {
   "cell_type": "code",
   "execution_count": 9,
   "metadata": {},
   "outputs": [
    {
     "name": "stdout",
     "output_type": "stream",
     "text": [
      "True\n"
     ]
    }
   ],
   "source": [
    "##Zion modified 'O(log^2(n))'\n",
    "##Not correct?\n",
    "\n",
    "def binary_search_modified(arr, x):\n",
    "    start = 0\n",
    "    end = len(arr) - 1\n",
    "    \n",
    "    while start <= end:\n",
    "        mid = (start + end) // 2\n",
    "        if arr[mid] == x:\n",
    "            return True\n",
    "        elif arr[mid] > x:\n",
    "            end = mid - 1\n",
    "            mid = (start + end) // 2\n",
    "        else:\n",
    "            start = mid + 1\n",
    "            mid = (start + end) // 2\n",
    "    \n",
    "    return False\n",
    "\n",
    "print(binary_search_modified([2,3,4,7,9,12,25,30], 4))"
   ]
  },
  {
   "cell_type": "code",
   "execution_count": 32,
   "metadata": {},
   "outputs": [
    {
     "name": "stdout",
     "output_type": "stream",
     "text": [
      "7\n"
     ]
    }
   ],
   "source": [
    "#Python function to find the minimum number in a list.\n",
    "\n",
    "## Brute force solution\n",
    "# def get_min_value(d):\n",
    "#     min_value = 0\n",
    "#     for x in d:\n",
    "#         for y in d:\n",
    "#             if y < x:\n",
    "#                 min_value = y\n",
    "#     return min_value\n",
    "# d = [80,67,12,56,7,8,9,0]\n",
    "# print(get_min_value(d))\n",
    "\n",
    "\n",
    "## Dr Kazeem's optimized solution\n",
    "min_value = float('inf')\n",
    "def get_min_value_2(d):\n",
    "    min_value = d[0]\n",
    "    for x in d:\n",
    "        if(min_value > x):\n",
    "            min_value = x\n",
    "    return min_value\n",
    "\n",
    "d = [80,67,12,56,7,8,9,10]\n",
    "print(get_min_value_2(d))\n"
   ]
  },
  {
   "cell_type": "code",
   "execution_count": 33,
   "metadata": {},
   "outputs": [
    {
     "name": "stdout",
     "output_type": "stream",
     "text": [
      "Passes:  5\n",
      "YT guy bubble sort: [2, 3, 4, 5, 6, 7, 8, 8, 9]\n"
     ]
    },
    {
     "data": {
      "text/plain": [
       "[2, 3, 4, 5, 6, 7, 8, 8, 9]"
      ]
     },
     "execution_count": 33,
     "metadata": {},
     "output_type": "execute_result"
    }
   ],
   "source": [
    "##YT Bubble Sort\n",
    "def bubble(list_a):\n",
    "    indexing_length = len(list_a) -1\n",
    "    sorted = False\n",
    "    swaps = 0\n",
    "\n",
    "    while not sorted:\n",
    "        sorted = True\n",
    "        for i in range(0, indexing_length):\n",
    "            if list_a[i] > list_a[i+1]:\n",
    "                sorted = False\n",
    "                list_a[i], list_a[i+1] = list_a[i+1], list_a[i]\n",
    "        swaps +=1\n",
    "    print(\"Passes: \", swaps)   \n",
    "    print(\"YT guy bubble sort:\", list_a)\n",
    "    return list_a\n",
    "\n",
    "bubble([4,6,8,3,2,5,7,8,9])"
   ]
  },
  {
   "cell_type": "code",
   "execution_count": 37,
   "metadata": {},
   "outputs": [
    {
     "name": "stdout",
     "output_type": "stream",
     "text": [
      "[17, 20, 26, 31, 44, 54, 55, 77, 93]\n"
     ]
    }
   ],
   "source": [
    "def bubble_sort(a_list):\n",
    "    for pass_num in range(len(a_list) - 1, 0, -1):\n",
    "        for i in range(pass_num):\n",
    "            if a_list[i] > a_list[i + 1]:\n",
    "                a_list[i], a_list[i + 1] =  a_list[i + 1],  a_list[i]\n",
    "    return a_list\n",
    "a_list = [54, 26, 93, 17, 77, 31, 44, 55, 20]\n",
    "print(bubble_sort(a_list))\n",
    "#print(a_list)\n",
    "\n"
   ]
  },
  {
   "cell_type": "code",
   "execution_count": 43,
   "metadata": {},
   "outputs": [
    {
     "name": "stdout",
     "output_type": "stream",
     "text": [
      "[17, 20, 26, 31, 44, 54, 55, 77, 93]\n"
     ]
    }
   ],
   "source": [
    "def short_bubble_sort(a_list):\n",
    "    exchanges = True\n",
    "    pass_num = len(a_list) - 1\n",
    "    while pass_num > 0 and exchanges:\n",
    "        exchanges = False\n",
    "        for i in range(pass_num):\n",
    "            if a_list[i] > a_list[i + 1]:\n",
    "                exchanges = True\n",
    "                a_list[i], a_list[i + 1] =  a_list[i + 1],  a_list[i]\n",
    "        pass_num = pass_num - 1\n",
    "            \n",
    "    return a_list\n",
    "a_list = [54, 26, 93, 17, 77, 31, 44, 55, 20]\n",
    "\n",
    "#a_list = [20, 30, 40, 90, 50, 60, 70, 80, 100, 110]\n",
    "\n",
    "print(short_bubble_sort(a_list))\n",
    "#print(a_list)"
   ]
  },
  {
   "cell_type": "code",
   "execution_count": null,
   "metadata": {},
   "outputs": [],
   "source": [
    "\n",
    "def selection_sort(a_list):\n",
    "    for fill_slot in range(len(a_list) - 1, 0, -1):\n",
    "        pos_of_max = 0\n",
    "        for location in range(1, fill_slot + 1):\n",
    "            if a_list[location] > a_list[pos_of_max]:\n",
    "                pos_of_max = location\n",
    "        a_list[fill_slot], a_list[pos_of_max] =  a_list[pos_of_max], a_list[fill_slot]\n",
    "\n",
    "    return a_list\n",
    "a_list = [54, 26, 93, 17, 77, 31, 44, 55, 20]\n",
    "selection_sort(a_list)\n",
    "print(a_list)"
   ]
  }
 ],
 "metadata": {
  "kernelspec": {
   "display_name": "Python 3",
   "language": "python",
   "name": "python3"
  },
  "language_info": {
   "codemirror_mode": {
    "name": "ipython",
    "version": 3
   },
   "file_extension": ".py",
   "mimetype": "text/x-python",
   "name": "python",
   "nbconvert_exporter": "python",
   "pygments_lexer": "ipython3",
   "version": "3.8.15 | packaged by conda-forge | (default, Nov 22 2022, 08:43:00) [MSC v.1929 64 bit (AMD64)]"
  },
  "orig_nbformat": 4,
  "vscode": {
   "interpreter": {
    "hash": "f2407f60e953aec4fe3de76e4a8b6e23cb357e4faa70cfc9f06965f8c2bae4f7"
   }
  }
 },
 "nbformat": 4,
 "nbformat_minor": 2
}
