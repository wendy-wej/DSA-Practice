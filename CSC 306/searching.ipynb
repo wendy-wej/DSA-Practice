{
 "cells": [
  {
   "cell_type": "code",
   "execution_count": 1,
   "metadata": {},
   "outputs": [
    {
     "name": "stdout",
     "output_type": "stream",
     "text": [
      "True\n"
     ]
    }
   ],
   "source": [
    "#Binary Search\n",
    "\n",
    "def binary_search(listt, item):\n",
    "    first = 0\n",
    "    last = len(listt) - 1\n",
    "    found = False\n",
    "    while first <= last and found == False:\n",
    "        midpoint = (first + last) //2\n",
    "        if listt[midpoint] == item:\n",
    "            found = True\n",
    "        else:\n",
    "            if item > listt[midpoint]:\n",
    "                first = midpoint + 1\n",
    "            else:\n",
    "                last = midpoint - 1\n",
    "    return found\n",
    "\n",
    "listt = [0,1,2,8,13,17,19,32,42]\n",
    "print(binary_search(listt, 17))"
   ]
  },
  {
   "cell_type": "code",
   "execution_count": 5,
   "metadata": {},
   "outputs": [
    {
     "name": "stdout",
     "output_type": "stream",
     "text": [
      "2\n"
     ]
    }
   ],
   "source": [
    "#Python function to find the minimum number in a list.\n",
    "\n",
    "## Brute force solution\n",
    "# def get_min_value(d):\n",
    "#     min_value = 0\n",
    "#     for x in d:\n",
    "#         for y in d:\n",
    "#             if y < x:\n",
    "#                 min_value = y\n",
    "#     return min_value\n",
    "# d = [80,67,12,56,7,8,9,0]\n",
    "# print(get_min_value(d))\n",
    "\n",
    "\n",
    "## Dr Kazeem's optimized solution\n",
    "min_value = float('inf')\n",
    "def get_min_value_2(d):\n",
    "    min_value = 0\n",
    "    for x in d:\n",
    "        if(min_value > x):\n",
    "            min_value = x\n",
    "    return min_value\n",
    "\n",
    "d = [80,67,12,56,7,8,9,0]\n",
    "print(get_min_value_2(d))\n"
   ]
  },
  {
   "cell_type": "code",
   "execution_count": null,
   "metadata": {},
   "outputs": [],
   "source": []
  }
 ],
 "metadata": {
  "kernelspec": {
   "display_name": "Python 3",
   "language": "python",
   "name": "python3"
  },
  "language_info": {
   "codemirror_mode": {
    "name": "ipython",
    "version": 3
   },
   "file_extension": ".py",
   "mimetype": "text/x-python",
   "name": "python",
   "nbconvert_exporter": "python",
   "pygments_lexer": "ipython3",
   "version": "3.8.15 | packaged by conda-forge | (default, Nov 22 2022, 08:43:00) [MSC v.1929 64 bit (AMD64)]"
  },
  "orig_nbformat": 4,
  "vscode": {
   "interpreter": {
    "hash": "f2407f60e953aec4fe3de76e4a8b6e23cb357e4faa70cfc9f06965f8c2bae4f7"
   }
  }
 },
 "nbformat": 4,
 "nbformat_minor": 2
}
