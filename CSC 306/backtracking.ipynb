{
 "cells": [
  {
   "cell_type": "code",
   "execution_count": 8,
   "metadata": {},
   "outputs": [
    {
     "name": "stdout",
     "output_type": "stream",
     "text": [
      "False\n"
     ]
    }
   ],
   "source": [
    "# Dr. Kazeem's Code \n",
    "global seen\n",
    "seen = False\n",
    "def backtrack(listt, index, sum): #sum is the same as the 'target' number\n",
    "    global seen\n",
    "    t = len(listt) - 1\n",
    "\n",
    "    if seen:\n",
    "        return True\n",
    "\n",
    "    if sum == 0:\n",
    "        seen = True\n",
    "        return True\n",
    "\n",
    "    if index > t:\n",
    "        return False\n",
    "\n",
    "    if sum < 0:\n",
    "        return False\n",
    "\n",
    "    left = backtrack(listt, index+1, sum-listt[index])\n",
    "    right = backtrack(listt, index + 1, sum)\n",
    "    if(left == True or right == True):\n",
    "        return True\n",
    "    else:\n",
    "        return False\n",
    "\n",
    "n = [3,4,5,2]\n",
    "sum = 9\n",
    "\n",
    "\n",
    "print(backtrack(n, 0, sum))"
   ]
  },
  {
   "cell_type": "code",
   "execution_count": null,
   "metadata": {},
   "outputs": [],
   "source": [
    "#Sope's code\n",
    "arr = [3, 4, 5, 2]\n",
    "target = 9\n",
    "\n",
    "def hasSum(arr, target, visited = set()):\n",
    "\n",
    "    if target == 0:\n",
    "        return True\n",
    "        \n",
    "    if target < 0:\n",
    "        return False\n",
    "        \n",
    "    for num in arr:\n",
    "        if num not in visited:\n",
    "            visited.add(num)\n",
    "            remainder = target - num \n",
    "            if hasSum(arr, remainder, visited) == True:\n",
    "                return True\n",
    "    \n",
    "    return False\n",
    "    \n",
    "print(hasSum(arr, target))"
   ]
  },
  {
   "cell_type": "code",
   "execution_count": 1,
   "metadata": {},
   "outputs": [
    {
     "name": "stdout",
     "output_type": "stream",
     "text": [
      "1\n",
      "3\n",
      "6\n",
      "11\n",
      "6\n",
      "3\n",
      "8\n",
      "3\n",
      "1\n",
      "4\n",
      "9\n",
      "4\n",
      "1\n",
      "6\n",
      "1\n",
      "2\n",
      "5\n",
      "10\n",
      "5\n",
      "2\n",
      "7\n",
      "2\n",
      "3\n",
      "8\n",
      "3\n",
      "5\n",
      "[[2, 5]]\n"
     ]
    }
   ],
   "source": [
    "def subsett(nums,target):\n",
    "    result= []\n",
    "    subset=[]\n",
    "    def dfs(i,target):\n",
    "        if len(subset) >= 1:\n",
    "            d =sum(subset)\n",
    "            print(d)\n",
    "            if(d==target):\n",
    "                result.append(subset.copy())\n",
    "                return\n",
    "            if(d>target):\n",
    "                return\n",
    "        if (i >= len(nums)):\n",
    "            return\n",
    "        subset.append(nums[i])\n",
    "        dfs(i+1,target)\n",
    "        subset.pop()\n",
    "        dfs(i+1,target)\n",
    "\n",
    "    dfs(0,target)\n",
    "    return result\n",
    "\n",
    "nums = [1,2,3,5]\n",
    "target = 7\n",
    "d = subsett(nums,target)\n",
    "print(d)\n",
    "            \n",
    "            \n",
    "\n",
    "\n"
   ]
  }
 ],
 "metadata": {
  "kernelspec": {
   "display_name": "Python 3.8.5 ('base')",
   "language": "python",
   "name": "python3"
  },
  "language_info": {
   "codemirror_mode": {
    "name": "ipython",
    "version": 3
   },
   "file_extension": ".py",
   "mimetype": "text/x-python",
   "name": "python",
   "nbconvert_exporter": "python",
   "pygments_lexer": "ipython3",
   "version": "3.8.5 (default, Sep  3 2020, 21:29:08) [MSC v.1916 64 bit (AMD64)]"
  },
  "orig_nbformat": 4,
  "vscode": {
   "interpreter": {
    "hash": "f2407f60e953aec4fe3de76e4a8b6e23cb357e4faa70cfc9f06965f8c2bae4f7"
   }
  }
 },
 "nbformat": 4,
 "nbformat_minor": 2
}
