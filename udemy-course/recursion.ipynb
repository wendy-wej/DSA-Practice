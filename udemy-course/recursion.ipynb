{
 "cells": [
  {
   "cell_type": "code",
   "execution_count": null,
   "metadata": {},
   "outputs": [],
   "source": [
    "def recursiveMethod(n):\n",
    "    if n<1:\n",
    "        print(\"n is less than 1\")\n",
    "    else:\n",
    "        recursiveMethod(n-1)\n",
    "        print(n)\n",
    "\n",
    "print(recursiveMethod(10))"
   ]
  },
  {
   "cell_type": "code",
   "execution_count": null,
   "metadata": {},
   "outputs": [],
   "source": [
    "#Code to find the sum of digits of a positive integer number using recursion\n",
    "##UDEMY SOLUTION\n",
    "def sum_digits(n):\n",
    "    assert n>=0 and int(n) == n\n",
    "    if n == 0:\n",
    "        return 0\n",
    "    else:\n",
    "        return int(n%10) + sum_digits(n//10)\n",
    "\n",
    "print(sum_digits(12364)) "
   ]
  },
  {
   "cell_type": "code",
   "execution_count": null,
   "metadata": {},
   "outputs": [],
   "source": [
    "#Code to find the sum of digits of a positive integer number using recursion\n",
    "##MY SOLUTION\n",
    "def sum_digits(n):  \n",
    "    if n < 10:\n",
    "        return n\n",
    "\n",
    "    else:\n",
    "        return int(n%10) + sum_digits(n//10)\n",
    "\n",
    "        \n",
    "\n",
    "print(sum_digits(12364)) "
   ]
  },
  {
   "cell_type": "code",
   "execution_count": null,
   "metadata": {},
   "outputs": [],
   "source": [
    "# Code to find the power of a number using recursion\n",
    "## MY CODE\n",
    "\n",
    "def exponent_power(num, exp):\n",
    "    assert exp > 0 and int(exp) == exp, 'Exponent must be integer only'\n",
    "    if exp == 1:\n",
    "        return num\n",
    "    else:\n",
    "        return num * exponent_power(num, exp-1)\n",
    "\n",
    "print(exponent_power(2, 5))"
   ]
  },
  {
   "cell_type": "code",
   "execution_count": null,
   "metadata": {},
   "outputs": [],
   "source": [
    "#Code to find the power of a number using recursion\n",
    "## UDEMY CODE\n",
    "def power(base, exp):\n",
    "    assert int(exp) == exp, 'The exponent must be integer number only'\n",
    "\n",
    "    if exp == 0:\n",
    "        return 1\n",
    "\n",
    "    return base * power(base, exp-1)\n",
    "\n",
    "print(power(4, 2))"
   ]
  },
  {
   "cell_type": "code",
   "execution_count": null,
   "metadata": {},
   "outputs": [],
   "source": [
    "#Code to find the GCD of two numbers using recursion\n",
    "## MY CODE\n",
    "\n",
    "def gcd_code(a, b):\n",
    "    if a < 0:\n",
    "        a = -1 *a\n",
    "\n",
    "    if b < 0:\n",
    "        b = -1 *b\n",
    "\n",
    "    if b == 0:\n",
    "        return a\n",
    "\n",
    "    else:\n",
    "        \n",
    "        return gcd_code(b, a%b)\n",
    "\n",
    "print(gcd_code(12, 8))"
   ]
  },
  {
   "cell_type": "code",
   "execution_count": null,
   "metadata": {},
   "outputs": [],
   "source": [
    "# Accept a character from the keyboard\n",
    "word = input(\"Enter any character of your choice: \", )\n",
    "\n",
    "# Get the ASCII value of the character\n",
    "ascii_value = ord(word)\n",
    "\n",
    "# Print the ASCII value of the character\n",
    "print(\"The ASCII value of '\" + word + \"' is: \" + str(ascii_value))"
   ]
  },
  {
   "cell_type": "code",
   "execution_count": null,
   "metadata": {},
   "outputs": [],
   "source": [
    "\n",
    "def other_base(number, base):\n",
    "    assert base>0 and int(base)==base, \"Base must be a positive whole number number!\"\n",
    "    assert number>0 and int(number)==number, \"Number must be a positive whole number!\"\n",
    "\n",
    "    carry = number//base\n",
    "    rem = number%base\n",
    "\n",
    "    if carry == 0:\n",
    "        return str(rem)\n",
    "\n",
    "    return other_base(carry, base) + str(rem)\n",
    "\n",
    "print(other_base(-158, 7))\n"
   ]
  },
  {
   "cell_type": "code",
   "execution_count": null,
   "metadata": {},
   "outputs": [],
   "source": [
    "def power(base, exponent):\n",
    "    assert base>0 and int(base)==base, \"Base must be a positive whole number number!\"\n",
    "    assert exponent>0 and int(exponent)==exponent, \"Number must be a positive whole number!\"\n",
    "    \n",
    "    if exponent == 1:\n",
    "        return base\n",
    "    \n",
    "    return base * power(base, exponent)\n",
    "    \n",
    "    \n",
    "   print(power(2, 3)) \n",
    "    \n",
    "    "
   ]
  }
 ],
 "metadata": {
  "kernelspec": {
   "display_name": "Python 3.8.5 ('base')",
   "language": "python",
   "name": "python3"
  },
  "language_info": {
   "codemirror_mode": {
    "name": "ipython",
    "version": 3
   },
   "file_extension": ".py",
   "mimetype": "text/x-python",
   "name": "python",
   "nbconvert_exporter": "python",
   "pygments_lexer": "ipython3",
   "version": "3.8.15 | packaged by conda-forge | (default, Nov 22 2022, 08:43:00) [MSC v.1929 64 bit (AMD64)]"
  },
  "orig_nbformat": 4,
  "vscode": {
   "interpreter": {
    "hash": "f2407f60e953aec4fe3de76e4a8b6e23cb357e4faa70cfc9f06965f8c2bae4f7"
   }
  }
 },
 "nbformat": 4,
 "nbformat_minor": 2
}
